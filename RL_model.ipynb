{
 "cells": [
  {
   "cell_type": "code",
   "execution_count": 1,
   "id": "9b2334bf-0c83-4cc8-869a-a2dcc9bccbf6",
   "metadata": {},
   "outputs": [],
   "source": [
    "import pandas as pd"
   ]
  },
  {
   "cell_type": "code",
   "execution_count": 29,
   "id": "e09fdc1d-d193-4f45-be52-a7dc47f2852c",
   "metadata": {},
   "outputs": [],
   "source": [
    "df= pd.read_csv(r\"C:\\Users\\jwali\\Downloads\\Kaggle\\RL\\train.txt\" ,sep='\\t', header=0, names=columns, nrows=10000)"
   ]
  },
  {
   "cell_type": "code",
   "execution_count": 31,
   "id": "e956d691-ac8e-474b-ad92-398cce0d3a34",
   "metadata": {},
   "outputs": [
    {
     "data": {
      "text/html": [
       "<div>\n",
       "<style scoped>\n",
       "    .dataframe tbody tr th:only-of-type {\n",
       "        vertical-align: middle;\n",
       "    }\n",
       "\n",
       "    .dataframe tbody tr th {\n",
       "        vertical-align: top;\n",
       "    }\n",
       "\n",
       "    .dataframe thead th {\n",
       "        text-align: right;\n",
       "    }\n",
       "</style>\n",
       "<table border=\"1\" class=\"dataframe\">\n",
       "  <thead>\n",
       "    <tr style=\"text-align: right;\">\n",
       "      <th></th>\n",
       "      <th>label</th>\n",
       "      <th>I1</th>\n",
       "      <th>I2</th>\n",
       "      <th>I3</th>\n",
       "      <th>I4</th>\n",
       "      <th>I5</th>\n",
       "      <th>I6</th>\n",
       "      <th>I7</th>\n",
       "      <th>I8</th>\n",
       "      <th>I9</th>\n",
       "      <th>...</th>\n",
       "      <th>C17</th>\n",
       "      <th>C18</th>\n",
       "      <th>C19</th>\n",
       "      <th>C20</th>\n",
       "      <th>C21</th>\n",
       "      <th>C22</th>\n",
       "      <th>C23</th>\n",
       "      <th>C24</th>\n",
       "      <th>C25</th>\n",
       "      <th>C26</th>\n",
       "    </tr>\n",
       "  </thead>\n",
       "  <tbody>\n",
       "    <tr>\n",
       "      <th>0</th>\n",
       "      <td>0</td>\n",
       "      <td>2.0</td>\n",
       "      <td>0</td>\n",
       "      <td>44.0</td>\n",
       "      <td>1.0</td>\n",
       "      <td>102.0</td>\n",
       "      <td>8.0</td>\n",
       "      <td>2.0</td>\n",
       "      <td>2.0</td>\n",
       "      <td>4.0</td>\n",
       "      <td>...</td>\n",
       "      <td>07c540c4</td>\n",
       "      <td>b04e4670</td>\n",
       "      <td>21ddcdc9</td>\n",
       "      <td>5840adea</td>\n",
       "      <td>60f6221e</td>\n",
       "      <td>NaN</td>\n",
       "      <td>3a171ecb</td>\n",
       "      <td>43f13e8b</td>\n",
       "      <td>e8b83407</td>\n",
       "      <td>731c3655</td>\n",
       "    </tr>\n",
       "    <tr>\n",
       "      <th>1</th>\n",
       "      <td>0</td>\n",
       "      <td>2.0</td>\n",
       "      <td>0</td>\n",
       "      <td>1.0</td>\n",
       "      <td>14.0</td>\n",
       "      <td>767.0</td>\n",
       "      <td>89.0</td>\n",
       "      <td>4.0</td>\n",
       "      <td>2.0</td>\n",
       "      <td>245.0</td>\n",
       "      <td>...</td>\n",
       "      <td>8efede7f</td>\n",
       "      <td>3412118d</td>\n",
       "      <td>NaN</td>\n",
       "      <td>NaN</td>\n",
       "      <td>e587c466</td>\n",
       "      <td>ad3062eb</td>\n",
       "      <td>3a171ecb</td>\n",
       "      <td>3b183c5c</td>\n",
       "      <td>NaN</td>\n",
       "      <td>NaN</td>\n",
       "    </tr>\n",
       "    <tr>\n",
       "      <th>2</th>\n",
       "      <td>0</td>\n",
       "      <td>NaN</td>\n",
       "      <td>893</td>\n",
       "      <td>NaN</td>\n",
       "      <td>NaN</td>\n",
       "      <td>4392.0</td>\n",
       "      <td>NaN</td>\n",
       "      <td>0.0</td>\n",
       "      <td>0.0</td>\n",
       "      <td>0.0</td>\n",
       "      <td>...</td>\n",
       "      <td>1e88c74f</td>\n",
       "      <td>74ef3502</td>\n",
       "      <td>NaN</td>\n",
       "      <td>NaN</td>\n",
       "      <td>6b3a5ca6</td>\n",
       "      <td>NaN</td>\n",
       "      <td>3a171ecb</td>\n",
       "      <td>9117a34a</td>\n",
       "      <td>NaN</td>\n",
       "      <td>NaN</td>\n",
       "    </tr>\n",
       "    <tr>\n",
       "      <th>3</th>\n",
       "      <td>0</td>\n",
       "      <td>3.0</td>\n",
       "      <td>-1</td>\n",
       "      <td>NaN</td>\n",
       "      <td>0.0</td>\n",
       "      <td>2.0</td>\n",
       "      <td>0.0</td>\n",
       "      <td>3.0</td>\n",
       "      <td>0.0</td>\n",
       "      <td>0.0</td>\n",
       "      <td>...</td>\n",
       "      <td>1e88c74f</td>\n",
       "      <td>26b3c7a7</td>\n",
       "      <td>NaN</td>\n",
       "      <td>NaN</td>\n",
       "      <td>21c9516a</td>\n",
       "      <td>NaN</td>\n",
       "      <td>32c7478e</td>\n",
       "      <td>b34f3128</td>\n",
       "      <td>NaN</td>\n",
       "      <td>NaN</td>\n",
       "    </tr>\n",
       "    <tr>\n",
       "      <th>4</th>\n",
       "      <td>0</td>\n",
       "      <td>NaN</td>\n",
       "      <td>-1</td>\n",
       "      <td>NaN</td>\n",
       "      <td>NaN</td>\n",
       "      <td>12824.0</td>\n",
       "      <td>NaN</td>\n",
       "      <td>0.0</td>\n",
       "      <td>0.0</td>\n",
       "      <td>6.0</td>\n",
       "      <td>...</td>\n",
       "      <td>776ce399</td>\n",
       "      <td>92555263</td>\n",
       "      <td>NaN</td>\n",
       "      <td>NaN</td>\n",
       "      <td>242bb710</td>\n",
       "      <td>8ec974f4</td>\n",
       "      <td>be7c41b4</td>\n",
       "      <td>72c78f11</td>\n",
       "      <td>NaN</td>\n",
       "      <td>NaN</td>\n",
       "    </tr>\n",
       "  </tbody>\n",
       "</table>\n",
       "<p>5 rows × 40 columns</p>\n",
       "</div>"
      ],
      "text/plain": [
       "   label   I1   I2    I3    I4       I5    I6   I7   I8     I9  ...       C17  \\\n",
       "0      0  2.0    0  44.0   1.0    102.0   8.0  2.0  2.0    4.0  ...  07c540c4   \n",
       "1      0  2.0    0   1.0  14.0    767.0  89.0  4.0  2.0  245.0  ...  8efede7f   \n",
       "2      0  NaN  893   NaN   NaN   4392.0   NaN  0.0  0.0    0.0  ...  1e88c74f   \n",
       "3      0  3.0   -1   NaN   0.0      2.0   0.0  3.0  0.0    0.0  ...  1e88c74f   \n",
       "4      0  NaN   -1   NaN   NaN  12824.0   NaN  0.0  0.0    6.0  ...  776ce399   \n",
       "\n",
       "        C18       C19       C20       C21       C22       C23       C24  \\\n",
       "0  b04e4670  21ddcdc9  5840adea  60f6221e       NaN  3a171ecb  43f13e8b   \n",
       "1  3412118d       NaN       NaN  e587c466  ad3062eb  3a171ecb  3b183c5c   \n",
       "2  74ef3502       NaN       NaN  6b3a5ca6       NaN  3a171ecb  9117a34a   \n",
       "3  26b3c7a7       NaN       NaN  21c9516a       NaN  32c7478e  b34f3128   \n",
       "4  92555263       NaN       NaN  242bb710  8ec974f4  be7c41b4  72c78f11   \n",
       "\n",
       "        C25       C26  \n",
       "0  e8b83407  731c3655  \n",
       "1       NaN       NaN  \n",
       "2       NaN       NaN  \n",
       "3       NaN       NaN  \n",
       "4       NaN       NaN  \n",
       "\n",
       "[5 rows x 40 columns]"
      ]
     },
     "execution_count": 31,
     "metadata": {},
     "output_type": "execute_result"
    }
   ],
   "source": [
    "df.head()"
   ]
  },
  {
   "cell_type": "code",
   "execution_count": 33,
   "id": "834521b4-d5eb-4f1e-9dd6-e27c922fe2f1",
   "metadata": {},
   "outputs": [],
   "source": [
    "columns = ['label'] + [f'I{i}' for i in range(1, 14)] + [f'C{i}' for i in range(1, 27)]\n"
   ]
  },
  {
   "cell_type": "code",
   "execution_count": 35,
   "id": "e242ec9d-cf0b-4f52-b44c-f7e6006daf03",
   "metadata": {},
   "outputs": [
    {
     "data": {
      "text/plain": [
       "400000"
      ]
     },
     "execution_count": 35,
     "metadata": {},
     "output_type": "execute_result"
    }
   ],
   "source": [
    "df.size"
   ]
  },
  {
   "cell_type": "code",
   "execution_count": 37,
   "id": "7223f5e9-4b0d-4d93-afe4-22e20dd7af98",
   "metadata": {},
   "outputs": [
    {
     "data": {
      "text/plain": [
       "label       0\n",
       "I1       4482\n",
       "I2          0\n",
       "I3       2037\n",
       "I4       1978\n",
       "I5        494\n",
       "I6       2511\n",
       "I7        492\n",
       "I8         10\n",
       "I9        492\n",
       "I10      4482\n",
       "I11       492\n",
       "I12      7734\n",
       "I13      1978\n",
       "C1          0\n",
       "C2          0\n",
       "C3        357\n",
       "C4        357\n",
       "C5          0\n",
       "C6       1332\n",
       "C7          0\n",
       "C8          0\n",
       "C9          0\n",
       "C10         0\n",
       "C11         0\n",
       "C12       357\n",
       "C13         0\n",
       "C14         0\n",
       "C15         0\n",
       "C16       357\n",
       "C17         0\n",
       "C18         0\n",
       "C19      4497\n",
       "C20      4497\n",
       "C21       357\n",
       "C22      8181\n",
       "C23         0\n",
       "C24       357\n",
       "C25      4497\n",
       "C26      4497\n",
       "dtype: int64"
      ]
     },
     "execution_count": 37,
     "metadata": {},
     "output_type": "execute_result"
    }
   ],
   "source": [
    "df.isnull().sum()"
   ]
  },
  {
   "cell_type": "code",
   "execution_count": 51,
   "id": "f7d6168f-b1e2-4f32-b22d-aad2978a9948",
   "metadata": {},
   "outputs": [
    {
     "data": {
      "text/plain": [
       "2986"
      ]
     },
     "execution_count": 51,
     "metadata": {},
     "output_type": "execute_result"
    }
   ],
   "source": [
    "df['C10'].unique().size"
   ]
  },
  {
   "cell_type": "code",
   "execution_count": 53,
   "id": "309aa623-d15b-4006-8eb0-7078a7fc9301",
   "metadata": {},
   "outputs": [
    {
     "data": {
      "text/plain": [
       "10000"
      ]
     },
     "execution_count": 53,
     "metadata": {},
     "output_type": "execute_result"
    }
   ],
   "source": [
    "df['C10'].size"
   ]
  },
  {
   "cell_type": "code",
   "execution_count": 55,
   "id": "7976fd11-5435-4a76-bf4c-0c9b66d82deb",
   "metadata": {},
   "outputs": [
    {
     "data": {
      "text/plain": [
       "(10000, 40)"
      ]
     },
     "execution_count": 55,
     "metadata": {},
     "output_type": "execute_result"
    }
   ],
   "source": [
    "df.shape"
   ]
  },
  {
   "cell_type": "code",
   "execution_count": 39,
   "id": "a4ac2a49-3f71-405a-a069-01117d8ff3e4",
   "metadata": {
    "scrolled": true
   },
   "outputs": [
    {
     "data": {
      "text/html": [
       "<div>\n",
       "<style scoped>\n",
       "    .dataframe tbody tr th:only-of-type {\n",
       "        vertical-align: middle;\n",
       "    }\n",
       "\n",
       "    .dataframe tbody tr th {\n",
       "        vertical-align: top;\n",
       "    }\n",
       "\n",
       "    .dataframe thead th {\n",
       "        text-align: right;\n",
       "    }\n",
       "</style>\n",
       "<table border=\"1\" class=\"dataframe\">\n",
       "  <thead>\n",
       "    <tr style=\"text-align: right;\">\n",
       "      <th></th>\n",
       "      <th>label</th>\n",
       "      <th>I1</th>\n",
       "      <th>I2</th>\n",
       "      <th>I3</th>\n",
       "      <th>I4</th>\n",
       "      <th>I5</th>\n",
       "      <th>I6</th>\n",
       "      <th>I7</th>\n",
       "      <th>I8</th>\n",
       "      <th>I9</th>\n",
       "      <th>I10</th>\n",
       "      <th>I11</th>\n",
       "      <th>I12</th>\n",
       "      <th>I13</th>\n",
       "    </tr>\n",
       "  </thead>\n",
       "  <tbody>\n",
       "    <tr>\n",
       "      <th>count</th>\n",
       "      <td>10000.000000</td>\n",
       "      <td>5518.000000</td>\n",
       "      <td>10000.000000</td>\n",
       "      <td>7963.000000</td>\n",
       "      <td>8022.000000</td>\n",
       "      <td>9.506000e+03</td>\n",
       "      <td>7489.000000</td>\n",
       "      <td>9508.000000</td>\n",
       "      <td>9990.000000</td>\n",
       "      <td>9508.000000</td>\n",
       "      <td>5518.000000</td>\n",
       "      <td>9508.000000</td>\n",
       "      <td>2266.000000</td>\n",
       "      <td>8022.000000</td>\n",
       "    </tr>\n",
       "    <tr>\n",
       "      <th>mean</th>\n",
       "      <td>0.218200</td>\n",
       "      <td>3.380029</td>\n",
       "      <td>110.866300</td>\n",
       "      <td>46.955670</td>\n",
       "      <td>8.013962</td>\n",
       "      <td>1.708457e+04</td>\n",
       "      <td>143.582988</td>\n",
       "      <td>14.529764</td>\n",
       "      <td>13.086086</td>\n",
       "      <td>124.744531</td>\n",
       "      <td>0.577021</td>\n",
       "      <td>2.347707</td>\n",
       "      <td>0.893645</td>\n",
       "      <td>10.910371</td>\n",
       "    </tr>\n",
       "    <tr>\n",
       "      <th>std</th>\n",
       "      <td>0.413045</td>\n",
       "      <td>9.420610</td>\n",
       "      <td>443.485586</td>\n",
       "      <td>893.981374</td>\n",
       "      <td>11.027063</td>\n",
       "      <td>6.256848e+04</td>\n",
       "      <td>365.877571</td>\n",
       "      <td>52.581595</td>\n",
       "      <td>17.570338</td>\n",
       "      <td>277.488773</td>\n",
       "      <td>0.656359</td>\n",
       "      <td>4.563456</td>\n",
       "      <td>3.805153</td>\n",
       "      <td>20.051531</td>\n",
       "    </tr>\n",
       "    <tr>\n",
       "      <th>min</th>\n",
       "      <td>0.000000</td>\n",
       "      <td>0.000000</td>\n",
       "      <td>-2.000000</td>\n",
       "      <td>0.000000</td>\n",
       "      <td>0.000000</td>\n",
       "      <td>0.000000e+00</td>\n",
       "      <td>0.000000</td>\n",
       "      <td>0.000000</td>\n",
       "      <td>0.000000</td>\n",
       "      <td>0.000000</td>\n",
       "      <td>0.000000</td>\n",
       "      <td>0.000000</td>\n",
       "      <td>0.000000</td>\n",
       "      <td>0.000000</td>\n",
       "    </tr>\n",
       "    <tr>\n",
       "      <th>25%</th>\n",
       "      <td>0.000000</td>\n",
       "      <td>0.000000</td>\n",
       "      <td>0.000000</td>\n",
       "      <td>2.000000</td>\n",
       "      <td>2.000000</td>\n",
       "      <td>2.720000e+02</td>\n",
       "      <td>9.000000</td>\n",
       "      <td>0.000000</td>\n",
       "      <td>2.000000</td>\n",
       "      <td>10.000000</td>\n",
       "      <td>0.000000</td>\n",
       "      <td>0.000000</td>\n",
       "      <td>0.000000</td>\n",
       "      <td>2.000000</td>\n",
       "    </tr>\n",
       "    <tr>\n",
       "      <th>50%</th>\n",
       "      <td>0.000000</td>\n",
       "      <td>1.000000</td>\n",
       "      <td>3.000000</td>\n",
       "      <td>7.000000</td>\n",
       "      <td>4.000000</td>\n",
       "      <td>2.491500e+03</td>\n",
       "      <td>40.000000</td>\n",
       "      <td>3.000000</td>\n",
       "      <td>7.000000</td>\n",
       "      <td>41.000000</td>\n",
       "      <td>0.000000</td>\n",
       "      <td>1.000000</td>\n",
       "      <td>0.000000</td>\n",
       "      <td>5.000000</td>\n",
       "    </tr>\n",
       "    <tr>\n",
       "      <th>75%</th>\n",
       "      <td>0.000000</td>\n",
       "      <td>3.000000</td>\n",
       "      <td>38.000000</td>\n",
       "      <td>21.000000</td>\n",
       "      <td>10.000000</td>\n",
       "      <td>1.049375e+04</td>\n",
       "      <td>130.000000</td>\n",
       "      <td>10.000000</td>\n",
       "      <td>20.000000</td>\n",
       "      <td>123.000000</td>\n",
       "      <td>1.000000</td>\n",
       "      <td>2.000000</td>\n",
       "      <td>1.000000</td>\n",
       "      <td>13.000000</td>\n",
       "    </tr>\n",
       "    <tr>\n",
       "      <th>max</th>\n",
       "      <td>1.000000</td>\n",
       "      <td>214.000000</td>\n",
       "      <td>18522.000000</td>\n",
       "      <td>65535.000000</td>\n",
       "      <td>280.000000</td>\n",
       "      <td>1.618112e+06</td>\n",
       "      <td>12167.000000</td>\n",
       "      <td>1658.000000</td>\n",
       "      <td>682.000000</td>\n",
       "      <td>7335.000000</td>\n",
       "      <td>6.000000</td>\n",
       "      <td>79.000000</td>\n",
       "      <td>98.000000</td>\n",
       "      <td>770.000000</td>\n",
       "    </tr>\n",
       "  </tbody>\n",
       "</table>\n",
       "</div>"
      ],
      "text/plain": [
       "              label           I1            I2            I3           I4  \\\n",
       "count  10000.000000  5518.000000  10000.000000   7963.000000  8022.000000   \n",
       "mean       0.218200     3.380029    110.866300     46.955670     8.013962   \n",
       "std        0.413045     9.420610    443.485586    893.981374    11.027063   \n",
       "min        0.000000     0.000000     -2.000000      0.000000     0.000000   \n",
       "25%        0.000000     0.000000      0.000000      2.000000     2.000000   \n",
       "50%        0.000000     1.000000      3.000000      7.000000     4.000000   \n",
       "75%        0.000000     3.000000     38.000000     21.000000    10.000000   \n",
       "max        1.000000   214.000000  18522.000000  65535.000000   280.000000   \n",
       "\n",
       "                 I5            I6           I7           I8           I9  \\\n",
       "count  9.506000e+03   7489.000000  9508.000000  9990.000000  9508.000000   \n",
       "mean   1.708457e+04    143.582988    14.529764    13.086086   124.744531   \n",
       "std    6.256848e+04    365.877571    52.581595    17.570338   277.488773   \n",
       "min    0.000000e+00      0.000000     0.000000     0.000000     0.000000   \n",
       "25%    2.720000e+02      9.000000     0.000000     2.000000    10.000000   \n",
       "50%    2.491500e+03     40.000000     3.000000     7.000000    41.000000   \n",
       "75%    1.049375e+04    130.000000    10.000000    20.000000   123.000000   \n",
       "max    1.618112e+06  12167.000000  1658.000000   682.000000  7335.000000   \n",
       "\n",
       "               I10          I11          I12          I13  \n",
       "count  5518.000000  9508.000000  2266.000000  8022.000000  \n",
       "mean      0.577021     2.347707     0.893645    10.910371  \n",
       "std       0.656359     4.563456     3.805153    20.051531  \n",
       "min       0.000000     0.000000     0.000000     0.000000  \n",
       "25%       0.000000     0.000000     0.000000     2.000000  \n",
       "50%       0.000000     1.000000     0.000000     5.000000  \n",
       "75%       1.000000     2.000000     1.000000    13.000000  \n",
       "max       6.000000    79.000000    98.000000   770.000000  "
      ]
     },
     "execution_count": 39,
     "metadata": {},
     "output_type": "execute_result"
    }
   ],
   "source": [
    "df.describe()"
   ]
  },
  {
   "cell_type": "code",
   "execution_count": 41,
   "id": "df72e182-730a-4311-926f-34d645bbbd26",
   "metadata": {},
   "outputs": [],
   "source": [
    "from sklearn.preprocessing import StandardScaler, LabelEncoder\n",
    "\n",
    "df = df.dropna(subset=['label']).reset_index(drop=True)"
   ]
  },
  {
   "cell_type": "code",
   "execution_count": 43,
   "id": "1746f997-c270-4793-a54d-4941b94b0957",
   "metadata": {},
   "outputs": [
    {
     "data": {
      "text/plain": [
       "400000"
      ]
     },
     "execution_count": 43,
     "metadata": {},
     "output_type": "execute_result"
    }
   ],
   "source": [
    "df.size"
   ]
  },
  {
   "cell_type": "code",
   "execution_count": 45,
   "id": "e2207048-84a1-4f9a-a185-12666a2b581b",
   "metadata": {},
   "outputs": [],
   "source": [
    "# Fill missing numerical values with 0\n",
    "num_cols = [f'I{i}' for i in range(1, 4)]\n"
   ]
  },
  {
   "cell_type": "code",
   "execution_count": 47,
   "id": "ce73ac8b-e8f7-466f-a4ec-438827c1b83a",
   "metadata": {},
   "outputs": [
    {
     "data": {
      "text/plain": [
       "['I1', 'I2', 'I3']"
      ]
     },
     "execution_count": 47,
     "metadata": {},
     "output_type": "execute_result"
    }
   ],
   "source": [
    "num_cols"
   ]
  },
  {
   "cell_type": "code",
   "execution_count": 57,
   "id": "db0e50ba-acee-40b4-8fba-22f32e3ef46f",
   "metadata": {},
   "outputs": [],
   "source": [
    "df[num_cols] = df[num_cols].fillna(0)"
   ]
  },
  {
   "cell_type": "code",
   "execution_count": 59,
   "id": "050462ad-99bc-48ae-911a-43e1cfad4deb",
   "metadata": {},
   "outputs": [],
   "source": [
    "cat_cols = [f'C{i}' for i in range(1, 3)]\n",
    "df[cat_cols] = df[cat_cols].fillna('missing')"
   ]
  },
  {
   "cell_type": "code",
   "execution_count": 63,
   "id": "0cb71409-9d3d-4935-85e2-f9f76535a4c8",
   "metadata": {},
   "outputs": [
    {
     "data": {
      "text/plain": [
       "0"
      ]
     },
     "execution_count": 63,
     "metadata": {},
     "output_type": "execute_result"
    }
   ],
   "source": [
    "df['I1'].isnull().sum()"
   ]
  },
  {
   "cell_type": "code",
   "execution_count": 65,
   "id": "b4a24077-a83d-4cec-8053-bd05305616e9",
   "metadata": {},
   "outputs": [],
   "source": [
    "scaler = StandardScaler()\n",
    "X_num = scaler.fit_transform(df[num_cols])"
   ]
  },
  {
   "cell_type": "code",
   "execution_count": 67,
   "id": "49a27eb3-dcba-42cc-8549-47097afa0712",
   "metadata": {},
   "outputs": [
    {
     "data": {
      "text/plain": [
       "array([[ 0.01874557, -0.25000101,  0.00828299],\n",
       "       [ 0.01874557, -0.25000101, -0.04560685],\n",
       "       [-0.25917243,  1.76369387, -0.0468601 ],\n",
       "       ...,\n",
       "       [ 0.57458157, -0.24549105, -0.04184709],\n",
       "       [-0.25917243, -0.2206863 , -0.03934059],\n",
       "       [-0.25917243, -0.20264648,  0.01956226]])"
      ]
     },
     "execution_count": 67,
     "metadata": {},
     "output_type": "execute_result"
    }
   ],
   "source": [
    "X_num "
   ]
  },
  {
   "cell_type": "code",
   "execution_count": 71,
   "id": "0da56afb-0213-430c-beb6-df23e4892c07",
   "metadata": {},
   "outputs": [
    {
     "data": {
      "text/html": [
       "<div>\n",
       "<style scoped>\n",
       "    .dataframe tbody tr th:only-of-type {\n",
       "        vertical-align: middle;\n",
       "    }\n",
       "\n",
       "    .dataframe tbody tr th {\n",
       "        vertical-align: top;\n",
       "    }\n",
       "\n",
       "    .dataframe thead th {\n",
       "        text-align: right;\n",
       "    }\n",
       "</style>\n",
       "<table border=\"1\" class=\"dataframe\">\n",
       "  <thead>\n",
       "    <tr style=\"text-align: right;\">\n",
       "      <th></th>\n",
       "      <th>I1</th>\n",
       "      <th>I2</th>\n",
       "      <th>I3</th>\n",
       "    </tr>\n",
       "  </thead>\n",
       "  <tbody>\n",
       "    <tr>\n",
       "      <th>0</th>\n",
       "      <td>2.0</td>\n",
       "      <td>0</td>\n",
       "      <td>44.0</td>\n",
       "    </tr>\n",
       "    <tr>\n",
       "      <th>1</th>\n",
       "      <td>2.0</td>\n",
       "      <td>0</td>\n",
       "      <td>1.0</td>\n",
       "    </tr>\n",
       "    <tr>\n",
       "      <th>2</th>\n",
       "      <td>0.0</td>\n",
       "      <td>893</td>\n",
       "      <td>0.0</td>\n",
       "    </tr>\n",
       "    <tr>\n",
       "      <th>3</th>\n",
       "      <td>3.0</td>\n",
       "      <td>-1</td>\n",
       "      <td>0.0</td>\n",
       "    </tr>\n",
       "    <tr>\n",
       "      <th>4</th>\n",
       "      <td>0.0</td>\n",
       "      <td>-1</td>\n",
       "      <td>0.0</td>\n",
       "    </tr>\n",
       "    <tr>\n",
       "      <th>...</th>\n",
       "      <td>...</td>\n",
       "      <td>...</td>\n",
       "      <td>...</td>\n",
       "    </tr>\n",
       "    <tr>\n",
       "      <th>9995</th>\n",
       "      <td>1.0</td>\n",
       "      <td>40</td>\n",
       "      <td>2.0</td>\n",
       "    </tr>\n",
       "    <tr>\n",
       "      <th>9996</th>\n",
       "      <td>6.0</td>\n",
       "      <td>18</td>\n",
       "      <td>3.0</td>\n",
       "    </tr>\n",
       "    <tr>\n",
       "      <th>9997</th>\n",
       "      <td>6.0</td>\n",
       "      <td>2</td>\n",
       "      <td>4.0</td>\n",
       "    </tr>\n",
       "    <tr>\n",
       "      <th>9998</th>\n",
       "      <td>0.0</td>\n",
       "      <td>13</td>\n",
       "      <td>6.0</td>\n",
       "    </tr>\n",
       "    <tr>\n",
       "      <th>9999</th>\n",
       "      <td>0.0</td>\n",
       "      <td>21</td>\n",
       "      <td>53.0</td>\n",
       "    </tr>\n",
       "  </tbody>\n",
       "</table>\n",
       "<p>10000 rows × 3 columns</p>\n",
       "</div>"
      ],
      "text/plain": [
       "       I1   I2    I3\n",
       "0     2.0    0  44.0\n",
       "1     2.0    0   1.0\n",
       "2     0.0  893   0.0\n",
       "3     3.0   -1   0.0\n",
       "4     0.0   -1   0.0\n",
       "...   ...  ...   ...\n",
       "9995  1.0   40   2.0\n",
       "9996  6.0   18   3.0\n",
       "9997  6.0    2   4.0\n",
       "9998  0.0   13   6.0\n",
       "9999  0.0   21  53.0\n",
       "\n",
       "[10000 rows x 3 columns]"
      ]
     },
     "execution_count": 71,
     "metadata": {},
     "output_type": "execute_result"
    }
   ],
   "source": [
    "df[num_cols]"
   ]
  },
  {
   "cell_type": "code",
   "execution_count": 75,
   "id": "b3954895-aa1d-4712-89d9-fdeeca2f3d5c",
   "metadata": {},
   "outputs": [],
   "source": [
    "import numpy as np"
   ]
  },
  {
   "cell_type": "code",
   "execution_count": 77,
   "id": "d2cb0699-f177-41be-81b7-625b23f74435",
   "metadata": {},
   "outputs": [],
   "source": [
    "encoders = {col: LabelEncoder().fit(df[col]) for col in cat_cols}\n",
    "X_cat = np.stack([encoders[col].transform(df[col]) for col in cat_cols], axis=1)"
   ]
  },
  {
   "cell_type": "code",
   "execution_count": 79,
   "id": "72892176-3133-49a9-94b6-e1dce724ad95",
   "metadata": {},
   "outputs": [
    {
     "data": {
      "text/plain": [
       "{'C1': LabelEncoder(), 'C2': LabelEncoder()}"
      ]
     },
     "execution_count": 79,
     "metadata": {},
     "output_type": "execute_result"
    }
   ],
   "source": [
    "encoders"
   ]
  },
  {
   "cell_type": "code",
   "execution_count": 81,
   "id": "16b26b88-4224-44b9-a0f3-25701de73f67",
   "metadata": {},
   "outputs": [
    {
     "data": {
      "text/plain": [
       "array([[ 75, 369],\n",
       "       [ 18,  18],\n",
       "       [ 75,  64],\n",
       "       ...,\n",
       "       [  1,  80],\n",
       "       [  1,  46],\n",
       "       [ 63, 192]])"
      ]
     },
     "execution_count": 81,
     "metadata": {},
     "output_type": "execute_result"
    }
   ],
   "source": [
    "X_cat\n"
   ]
  },
  {
   "cell_type": "code",
   "execution_count": 83,
   "id": "2da868b4-b101-4c26-a6f7-386580e658b5",
   "metadata": {},
   "outputs": [],
   "source": [
    "X = np.concatenate([X_num, X_cat], axis=1)"
   ]
  },
  {
   "cell_type": "code",
   "execution_count": 85,
   "id": "c1d4367d-28f6-4aa4-9d73-453adda54ca6",
   "metadata": {},
   "outputs": [],
   "source": [
    "y = df['label'].astype(int).values"
   ]
  },
  {
   "cell_type": "code",
   "execution_count": 91,
   "id": "e2dd7450-2249-48e0-9479-fee27cf91bc5",
   "metadata": {},
   "outputs": [
    {
     "data": {
      "text/plain": [
       "2"
      ]
     },
     "execution_count": 91,
     "metadata": {},
     "output_type": "execute_result"
    }
   ],
   "source": [
    " 11 % 3"
   ]
  },
  {
   "cell_type": "code",
   "execution_count": 93,
   "id": "550817ce-6b06-4f46-b54c-ce25dd4025a8",
   "metadata": {},
   "outputs": [],
   "source": [
    "class LinUCB:\n",
    "    def __init__(self, n_arms, n_features, alpha=0.5):\n",
    "        self.alpha = alpha\n",
    "        self.n_arms = n_arms\n",
    "        self.n_features = n_features\n",
    "        self.A = [np.identity(n_features) for _ in range(n_arms)]\n",
    "        self.b = [np.zeros((n_features,)) for _ in range(n_arms)]\n",
    "\n",
    "    def predict(self, x):\n",
    "        p = np.zeros(self.n_arms)\n",
    "        for a in range(self.n_arms):\n",
    "            A_inv = np.linalg.inv(self.A[a])\n",
    "            theta = A_inv @ self.b[a]\n",
    "            p[a] = theta @ x + self.alpha * np.sqrt(x.T @ A_inv @ x)\n",
    "        return np.argmax(p)\n",
    "\n",
    "    def update(self, chosen_arm, x, reward):\n",
    "        self.A[chosen_arm] += np.outer(x, x)\n",
    "        self.b[chosen_arm] += reward * x\n"
   ]
  },
  {
   "cell_type": "code",
   "execution_count": 97,
   "id": "627a7d38-4211-4e2e-a20a-960c9973bcf3",
   "metadata": {},
   "outputs": [],
   "source": [
    "def assign_arm(categorical_value):\n",
    "    return categorical_value % 3  # convert C1 into 3 ad categories\n"
   ]
  },
  {
   "cell_type": "code",
   "execution_count": 99,
   "id": "1a657393-ff6d-4f92-ac3c-51b6787f3ee0",
   "metadata": {},
   "outputs": [],
   "source": [
    "arms = 3\n",
    "context_dim = X.shape[1]"
   ]
  },
  {
   "cell_type": "code",
   "execution_count": 101,
   "id": "0fd5d195-b1da-49f7-9285-cb80d753c4e5",
   "metadata": {
    "scrolled": true
   },
   "outputs": [],
   "source": [
    "agent = LinUCB(n_arms=arms, n_features=context_dim, alpha=0.5)\n",
    "rewards = []"
   ]
  },
  {
   "cell_type": "code",
   "execution_count": 103,
   "id": "82ce5318-f0ae-49ed-abec-aedda545e827",
   "metadata": {},
   "outputs": [],
   "source": [
    "for i in range(len(X)):\n",
    "    x = X[i]\n",
    "    true_arm = assign_arm(X_cat[i][0])  # from C1\n",
    "    chosen_arm = agent.predict(x)\n",
    "\n",
    "    reward = 1 if chosen_arm == true_arm and y[i] == 1 else 0\n",
    "    agent.update(chosen_arm, x, reward)\n",
    "    rewards.append(reward)"
   ]
  },
  {
   "cell_type": "code",
   "execution_count": 107,
   "id": "19615700-ed9b-4df1-8a2b-30012444a663",
   "metadata": {},
   "outputs": [],
   "source": [
    "import matplotlib.pyplot as plt"
   ]
  },
  {
   "cell_type": "code",
   "execution_count": 109,
   "id": "e1a7c711-21cf-4571-a855-a8a3c565904a",
   "metadata": {},
   "outputs": [
    {
     "data": {
      "image/png": "[encoded data removed]",
      "text/plain": [
       "<Figure size 1000x500 with 1 Axes>"
      ]
     },
     "metadata": {},
     "output_type": "display_data"
    },
    {
     "name": "stdout",
     "output_type": "stream",
     "text": [
      "Final CTR: 0.166\n"
     ]
    }
   ],
   "source": [
    "cumulative_ctr = np.cumsum(rewards) / (np.arange(len(rewards)) + 1)\n",
    "\n",
    "plt.figure(figsize=(10, 5))\n",
    "plt.plot(cumulative_ctr)\n",
    "plt.title(\"LinUCB CTR Over Time on Criteo Subset\")\n",
    "plt.xlabel(\"Rounds\")\n",
    "plt.ylabel(\"Cumulative CTR\")\n",
    "plt.grid(True)\n",
    "plt.show()\n",
    "\n",
    "print(f\"Final CTR: {cumulative_ctr[-1]:.3f}\")\n"
   ]
  },
  {
   "cell_type": "code",
   "execution_count": 111,
   "id": "d7bc06a1-7e5e-4508-a80b-c625e63463cd",
   "metadata": {},
   "outputs": [],
   "source": [
    "ad_texts = {\n",
    "    0: \"Discount running shoes for fitness lovers\",\n",
    "    1: \"Zero-fee credit card with cashback rewards\",\n",
    "    2: \"Next-gen gaming console with 4K graphics\"\n",
    "}\n"
   ]
  },
  {
   "cell_type": "code",
   "execution_count": 115,
   "id": "a782ee17-c4b1-4b5b-8dc6-3a6d7a615381",
   "metadata": {},
   "outputs": [
    {
     "name": "stdout",
     "output_type": "stream",
     "text": [
      "Collecting sentence-transformers\n",
      "  Downloading sentence_transformers-4.1.0-py3-none-any.whl.metadata (13 kB)\n",
      "Requirement already satisfied: transformers<5.0.0,>=4.41.0 in c:\\users\\jwali\\anaconda3\\lib\\site-packages (from sentence-transformers) (4.48.0)\n",
      "Requirement already satisfied: tqdm in c:\\users\\jwali\\anaconda3\\lib\\site-packages (from sentence-transformers) (4.66.5)\n",
      "Requirement already satisfied: torch>=1.11.0 in c:\\users\\jwali\\anaconda3\\lib\\site-packages (from sentence-transformers) (2.5.1)\n",
      "Requirement already satisfied: scikit-learn in c:\\users\\jwali\\anaconda3\\lib\\site-packages (from sentence-transformers) (1.5.1)\n",
      "Requirement already satisfied: scipy in c:\\users\\jwali\\anaconda3\\lib\\site-packages (from sentence-transformers) (1.13.1)\n",
      "Requirement already satisfied: huggingface-hub>=0.20.0 in c:\\users\\jwali\\anaconda3\\lib\\site-packages (from sentence-transformers) (0.27.1)\n",
      "Requirement already satisfied: Pillow in c:\\users\\jwali\\anaconda3\\lib\\site-packages (from sentence-transformers) (10.4.0)\n",
      "Requirement already satisfied: typing_extensions>=4.5.0 in c:\\users\\jwali\\anaconda3\\lib\\site-packages (from sentence-transformers) (4.11.0)\n",
      "Requirement already satisfied: filelock in c:\\users\\jwali\\anaconda3\\lib\\site-packages (from huggingface-hub>=0.20.0->sentence-transformers) (3.13.1)\n",
      "Requirement already satisfied: fsspec>=2023.5.0 in c:\\users\\jwali\\anaconda3\\lib\\site-packages (from huggingface-hub>=0.20.0->sentence-transformers) (2024.6.1)\n",
      "Requirement already satisfied: packaging>=20.9 in c:\\users\\jwali\\anaconda3\\lib\\site-packages (from huggingface-hub>=0.20.0->sentence-transformers) (24.1)\n",
      "Requirement already satisfied: pyyaml>=5.1 in c:\\users\\jwali\\anaconda3\\lib\\site-packages (from huggingface-hub>=0.20.0->sentence-transformers) (6.0.1)\n",
      "Requirement already satisfied: requests in c:\\users\\jwali\\anaconda3\\lib\\site-packages (from huggingface-hub>=0.20.0->sentence-transformers) (2.32.3)\n",
      "Requirement already satisfied: networkx in c:\\users\\jwali\\anaconda3\\lib\\site-packages (from torch>=1.11.0->sentence-transformers) (3.3)\n",
      "Requirement already satisfied: jinja2 in c:\\users\\jwali\\anaconda3\\lib\\site-packages (from torch>=1.11.0->sentence-transformers) (3.1.4)\n",
      "Requirement already satisfied: setuptools in c:\\users\\jwali\\anaconda3\\lib\\site-packages (from torch>=1.11.0->sentence-transformers) (75.1.0)\n",
      "Requirement already satisfied: sympy==1.13.1 in c:\\users\\jwali\\anaconda3\\lib\\site-packages (from torch>=1.11.0->sentence-transformers) (1.13.1)\n",
      "Requirement already satisfied: mpmath<1.4,>=1.1.0 in c:\\users\\jwali\\anaconda3\\lib\\site-packages (from sympy==1.13.1->torch>=1.11.0->sentence-transformers) (1.3.0)\n",
      "Requirement already satisfied: colorama in c:\\users\\jwali\\anaconda3\\lib\\site-packages (from tqdm->sentence-transformers) (0.4.6)\n",
      "Requirement already satisfied: numpy>=1.17 in c:\\users\\jwali\\anaconda3\\lib\\site-packages (from transformers<5.0.0,>=4.41.0->sentence-transformers) (1.26.4)\n",
      "Requirement already satisfied: regex!=2019.12.17 in c:\\users\\jwali\\anaconda3\\lib\\site-packages (from transformers<5.0.0,>=4.41.0->sentence-transformers) (2024.9.11)\n",
      "Requirement already satisfied: tokenizers<0.22,>=0.21 in c:\\users\\jwali\\anaconda3\\lib\\site-packages (from transformers<5.0.0,>=4.41.0->sentence-transformers) (0.21.0)\n",
      "Requirement already satisfied: safetensors>=0.4.1 in c:\\users\\jwali\\anaconda3\\lib\\site-packages (from transformers<5.0.0,>=4.41.0->sentence-transformers) (0.5.2)\n",
      "Requirement already satisfied: joblib>=1.2.0 in c:\\users\\jwali\\anaconda3\\lib\\site-packages (from scikit-learn->sentence-transformers) (1.4.2)\n",
      "Requirement already satisfied: threadpoolctl>=3.1.0 in c:\\users\\jwali\\anaconda3\\lib\\site-packages (from scikit-learn->sentence-transformers) (3.5.0)\n",
      "Requirement already satisfied: MarkupSafe>=2.0 in c:\\users\\jwali\\anaconda3\\lib\\site-packages (from jinja2->torch>=1.11.0->sentence-transformers) (2.1.3)\n",
      "Requirement already satisfied: charset-normalizer<4,>=2 in c:\\users\\jwali\\anaconda3\\lib\\site-packages (from requests->huggingface-hub>=0.20.0->sentence-transformers) (3.3.2)\n",
      "Requirement already satisfied: idna<4,>=2.5 in c:\\users\\jwali\\anaconda3\\lib\\site-packages (from requests->huggingface-hub>=0.20.0->sentence-transformers) (3.7)\n",
      "Requirement already satisfied: urllib3<3,>=1.21.1 in c:\\users\\jwali\\anaconda3\\lib\\site-packages (from requests->huggingface-hub>=0.20.0->sentence-transformers) (2.2.3)\n",
      "Requirement already satisfied: certifi>=2017.4.17 in c:\\users\\jwali\\anaconda3\\lib\\site-packages (from requests->huggingface-hub>=0.20.0->sentence-transformers) (2024.12.14)\n",
      "Downloading sentence_transformers-4.1.0-py3-none-any.whl (345 kB)\n",
      "Installing collected packages: sentence-transformers\n",
      "Successfully installed sentence-transformers-4.1.0\n",
      "Note: you may need to restart the kernel to use updated packages.\n"
     ]
    }
   ],
   "source": [
    "pip install sentence-transformers\n"
   ]
  },
  {
   "cell_type": "code",
   "execution_count": 117,
   "id": "3e356362-a40d-4bdd-a820-d67779251e5c",
   "metadata": {
    "scrolled": true
   },
   "outputs": [
    {
     "data": {
      "application/vnd.jupyter.widget-view+json": {
       "model_id": "4277862ae83745b281b81cf3ba197da8",
       "version_major": 2,
       "version_minor": 0
      },
      "text/plain": [
       "modules.json:   0%|          | 0.00/349 [00:00<?, ?B/s]"
      ]
     },
     "metadata": {},
     "output_type": "display_data"
    },
    {
     "name": "stderr",
     "output_type": "stream",
     "text": [
      "C:\\Users\\jwali\\anaconda3\\Lib\\site-packages\\huggingface_hub\\file_download.py:140: UserWarning: `huggingface_hub` cache-system uses symlinks by default to efficiently store duplicated files but your machine does not support them in C:\\Users\\jwali\\.cache\\huggingface\\hub\\models--sentence-transformers--all-MiniLM-L6-v2. Caching files will still work but in a degraded version that might require more space on your disk. This warning can be disabled by setting the `HF_HUB_DISABLE_SYMLINKS_WARNING` environment variable. For more details, see https://huggingface.co/docs/huggingface_hub/how-to-cache#limitations.\n",
      "To support symlinks on Windows, you either need to activate Developer Mode or to run Python as an administrator. In order to activate developer mode, see this article: https://docs.microsoft.com/en-us/windows/apps/get-started/enable-your-device-for-development\n",
      "  warnings.warn(message)\n"
     ]
    },
    {
     "data": {
      "application/vnd.jupyter.widget-view+json": {
       "model_id": "9cbdd70d64b2417790ef5d398b11ff2d",
       "version_major": 2,
       "version_minor": 0
      },
      "text/plain": [
       "config_sentence_transformers.json:   0%|          | 0.00/116 [00:00<?, ?B/s]"
      ]
     },
     "metadata": {},
     "output_type": "display_data"
    },
    {
     "data": {
      "application/vnd.jupyter.widget-view+json": {
       "model_id": "120594141aae4e03a775d6196a9bd4b7",
       "version_major": 2,
       "version_minor": 0
      },
      "text/plain": [
       "README.md:   0%|          | 0.00/10.5k [00:00<?, ?B/s]"
      ]
     },
     "metadata": {},
     "output_type": "display_data"
    },
    {
     "data": {
      "application/vnd.jupyter.widget-view+json": {
       "model_id": "1fde43f00aa2427f8632c22cbe71a533",
       "version_major": 2,
       "version_minor": 0
      },
      "text/plain": [
       "sentence_bert_config.json:   0%|          | 0.00/53.0 [00:00<?, ?B/s]"
      ]
     },
     "metadata": {},
     "output_type": "display_data"
    },
    {
     "data": {
      "application/vnd.jupyter.widget-view+json": {
       "model_id": "696e74bfe93d47819a35c5ff2799f18e",
       "version_major": 2,
       "version_minor": 0
      },
      "text/plain": [
       "config.json:   0%|          | 0.00/612 [00:00<?, ?B/s]"
      ]
     },
     "metadata": {},
     "output_type": "display_data"
    },
    {
     "data": {
      "application/vnd.jupyter.widget-view+json": {
       "model_id": "667c1fc1536047559caeee1b53ae2136",
       "version_major": 2,
       "version_minor": 0
      },
      "text/plain": [
       "model.safetensors:   0%|          | 0.00/90.9M [00:00<?, ?B/s]"
      ]
     },
     "metadata": {},
     "output_type": "display_data"
    },
    {
     "data": {
      "application/vnd.jupyter.widget-view+json": {
       "model_id": "9a53a0e5ef8e46499add2b99beb365dc",
       "version_major": 2,
       "version_minor": 0
      },
      "text/plain": [
       "tokenizer_config.json:   0%|          | 0.00/350 [00:00<?, ?B/s]"
      ]
     },
     "metadata": {},
     "output_type": "display_data"
    },
    {
     "data": {
      "application/vnd.jupyter.widget-view+json": {
       "model_id": "aa21c72f29a649c9bca16d8ea5ec0f2a",
       "version_major": 2,
       "version_minor": 0
      },
      "text/plain": [
       "vocab.txt:   0%|          | 0.00/232k [00:00<?, ?B/s]"
      ]
     },
     "metadata": {},
     "output_type": "display_data"
    },
    {
     "data": {
      "application/vnd.jupyter.widget-view+json": {
       "model_id": "cc7dae8899eb4528bf2c8a4b7597b53b",
       "version_major": 2,
       "version_minor": 0
      },
      "text/plain": [
       "tokenizer.json:   0%|          | 0.00/466k [00:00<?, ?B/s]"
      ]
     },
     "metadata": {},
     "output_type": "display_data"
    },
    {
     "data": {
      "application/vnd.jupyter.widget-view+json": {
       "model_id": "48ad6093217c45c8a6b1ee7f2c6bbdb4",
       "version_major": 2,
       "version_minor": 0
      },
      "text/plain": [
       "special_tokens_map.json:   0%|          | 0.00/112 [00:00<?, ?B/s]"
      ]
     },
     "metadata": {},
     "output_type": "display_data"
    },
    {
     "data": {
      "application/vnd.jupyter.widget-view+json": {
       "model_id": "49529c38a0a9494caa6021110c9614bd",
       "version_major": 2,
       "version_minor": 0
      },
      "text/plain": [
       "config.json:   0%|          | 0.00/190 [00:00<?, ?B/s]"
      ]
     },
     "metadata": {},
     "output_type": "display_data"
    }
   ],
   "source": [
    "from sentence_transformers import SentenceTransformer\n",
    "\n",
    "model = SentenceTransformer('all-MiniLM-L6-v2')\n",
    "\n",
    "# Generate 384-d embeddings for each ad\n",
    "ad_embeddings = {k: model.encode([text])[0] for k, text in ad_texts.items()}\n"
   ]
  },
  {
   "cell_type": "code",
   "execution_count": 119,
   "id": "e038c64b-b202-49b3-a21b-23515ae6046b",
   "metadata": {
    "scrolled": true
   },
   "outputs": [
    {
     "data": {
      "text/plain": [
       "{0: array([-8.45920369e-02,  2.34854519e-02, -6.14127144e-03,  2.93060318e-02,\n",
       "         3.43144611e-02,  4.10150457e-03, -4.30360921e-02, -2.65921955e-03,\n",
       "        -1.53735047e-02,  1.13296704e-02,  4.25622799e-02,  5.56623153e-02,\n",
       "        -1.50440596e-02, -6.19575940e-02,  3.99772935e-02,  1.34815918e-02,\n",
       "         1.65906306e-02,  2.72078607e-02, -4.12864648e-02, -2.09412747e-03,\n",
       "        -7.67556727e-02, -8.28351751e-02,  2.75671165e-02,  3.95156182e-02,\n",
       "        -8.24887156e-02,  5.50229587e-02,  1.99594107e-02,  1.82900112e-02,\n",
       "        -5.37319072e-02,  9.63969901e-03,  2.71802153e-02, -9.10798088e-02,\n",
       "         7.03062564e-02, -3.59551306e-03,  4.97080535e-02, -3.55692357e-02,\n",
       "         4.67898138e-02, -6.63705468e-02, -1.12266861e-01,  8.75886604e-02,\n",
       "         1.30126653e-02, -9.98339951e-02, -6.84763789e-02,  6.26031607e-02,\n",
       "         2.57009715e-02, -9.01232287e-03, -3.83579880e-02,  3.34104560e-02,\n",
       "        -4.56460938e-02,  8.04084092e-02, -1.66002680e-02, -3.42399850e-02,\n",
       "         8.72158073e-03, -3.93215530e-02,  2.32948046e-02,  6.18833043e-02,\n",
       "        -1.02514006e-01, -5.51804807e-03, -3.92931327e-02, -1.23179421e-01,\n",
       "         1.18964389e-01, -4.95247245e-02, -6.07053675e-02, -1.18865939e-02,\n",
       "        -5.99798411e-02,  1.90054439e-02, -4.21222039e-02,  3.90723273e-02,\n",
       "         2.82148272e-02, -2.23660260e-03, -2.20338032e-02,  3.01393997e-02,\n",
       "         4.94477116e-02,  1.96344908e-02, -7.95377791e-02,  1.07524045e-01,\n",
       "         1.73672177e-02, -9.49548185e-02, -8.35017860e-02, -2.29042098e-02,\n",
       "         1.86613072e-02, -5.76449893e-02, -6.78514177e-03, -5.65335527e-02,\n",
       "         6.22008443e-02,  4.39008921e-02,  6.28193691e-02, -3.88273373e-02,\n",
       "         4.47782837e-02, -1.97767895e-02, -2.17896681e-02,  1.00947078e-02,\n",
       "        -4.44810353e-02, -3.79347168e-02, -6.62269518e-02,  6.41213404e-03,\n",
       "        -5.74135557e-02,  2.71723066e-02, -1.86650939e-02,  3.61219160e-02,\n",
       "         6.98452443e-02,  7.02432543e-03,  4.91155274e-02,  2.39151828e-02,\n",
       "         1.69877689e-02, -6.12386987e-02, -4.24042754e-02,  8.67937058e-02,\n",
       "         7.56554529e-02,  6.64421916e-02, -2.07215454e-03, -8.39317143e-02,\n",
       "         3.20608653e-02,  3.37768942e-02, -1.63082108e-02, -4.42978367e-02,\n",
       "        -7.89894955e-04,  5.78719452e-02,  8.00210759e-02,  6.40998855e-02,\n",
       "        -1.41289169e-02, -1.14468811e-02,  5.86885661e-02, -3.33373658e-02,\n",
       "        -7.38386810e-02, -1.01666629e-01, -2.68662944e-02, -7.30623050e-34,\n",
       "        -2.59151198e-02,  2.67594084e-02,  1.57072656e-02, -1.39625132e-01,\n",
       "         3.79948840e-02, -3.18715279e-03,  7.32704531e-03, -6.75249770e-02,\n",
       "        -3.07194535e-02,  7.78596997e-02, -2.22010463e-02,  7.80154988e-02,\n",
       "         1.09154070e-02, -2.56655016e-03,  5.78983687e-02, -3.01736370e-02,\n",
       "        -1.09617813e-02,  1.41018201e-02,  1.39123080e-02,  8.84904619e-03,\n",
       "         8.75932537e-03,  2.01681405e-02, -2.97885425e-02,  5.63682653e-02,\n",
       "         3.38381305e-02, -8.53242874e-02,  9.21797827e-02,  6.93837972e-03,\n",
       "         6.28343895e-02,  1.50006069e-02, -1.12663058e-03, -5.16892821e-02,\n",
       "        -2.25310568e-02, -5.56383654e-02, -3.74146327e-02,  6.27711834e-03,\n",
       "        -1.00735081e-02, -3.48185152e-02,  4.13663387e-02, -4.11616340e-02,\n",
       "        -5.91156026e-03,  9.77640692e-03,  4.94972169e-02, -1.49709061e-02,\n",
       "        -2.10364796e-02,  3.01381499e-02,  8.61380249e-02,  6.44796938e-02,\n",
       "         4.14878549e-03, -5.41469269e-02, -5.85457683e-02, -1.06090284e-03,\n",
       "        -3.44449095e-02,  7.97368959e-03, -6.22847071e-03, -1.25378534e-01,\n",
       "        -4.57480969e-03,  5.03785498e-02, -3.56585369e-03,  3.64479572e-02,\n",
       "         6.54956233e-03,  5.15563115e-02, -8.81406367e-02, -7.47813657e-02,\n",
       "        -1.31946281e-01, -5.05175963e-02,  1.27806384e-02, -1.40323536e-02,\n",
       "        -1.10521093e-01,  7.65008256e-02,  2.79923268e-02,  2.67896876e-02,\n",
       "         4.06587915e-03,  6.50115460e-02,  3.23843956e-02,  2.09685620e-02,\n",
       "         5.98652214e-02,  5.75355887e-02, -4.40045260e-02, -6.79221153e-02,\n",
       "        -5.01193106e-02, -5.08618876e-02,  3.05160563e-02,  8.02533850e-02,\n",
       "        -2.79132240e-02,  2.38425750e-02, -3.22855413e-02, -9.75421339e-04,\n",
       "         3.60663868e-02, -4.49442863e-02, -5.83034344e-02,  1.49298329e-02,\n",
       "        -6.66718781e-02,  4.43605967e-02, -4.63624019e-03, -7.50485368e-34,\n",
       "         8.82843584e-02,  5.44130243e-02,  7.86995366e-02,  6.37651756e-02,\n",
       "         5.90466745e-02,  7.94240460e-02,  1.26681840e-02, -5.27234524e-02,\n",
       "         3.70235555e-02, -5.64981401e-02, -7.38178492e-02,  1.99222621e-02,\n",
       "         7.15387538e-02,  5.67784123e-02,  2.60150060e-02, -1.98032428e-03,\n",
       "         4.08138782e-02,  1.75985266e-02,  4.22938094e-02, -3.84670608e-02,\n",
       "         1.52648091e-02,  1.10709548e-01, -3.35449795e-03, -8.44718367e-02,\n",
       "         3.53881903e-02,  1.36073977e-02,  9.88791436e-02,  2.75832135e-02,\n",
       "        -1.26608014e-01, -1.15965102e-02,  3.54269110e-02, -1.15682222e-02,\n",
       "        -2.90744547e-02, -2.77398024e-02, -3.41404304e-02,  3.95387458e-03,\n",
       "        -1.01488695e-01,  3.63083780e-02,  5.33424206e-02,  7.45982453e-02,\n",
       "         6.44096062e-02, -4.87000793e-02,  6.89706206e-02,  3.27839814e-02,\n",
       "        -2.15103887e-02, -1.09163597e-01, -3.09804678e-02, -1.30258780e-02,\n",
       "        -1.25847962e-02, -3.22318077e-02, -6.18367596e-03, -9.36190411e-03,\n",
       "         2.09254026e-02,  9.02404189e-02, -6.14267923e-02, -3.23377401e-02,\n",
       "        -8.80602077e-02,  5.74973151e-02, -6.00626543e-02,  1.23610795e-02,\n",
       "        -4.49216692e-03,  2.99346987e-02,  1.43358558e-02, -1.08449925e-02,\n",
       "         4.57354076e-02, -2.90894620e-02,  1.45277670e-02,  9.77014285e-03,\n",
       "        -5.53979203e-02, -2.21444946e-02, -6.20617531e-02, -1.42715555e-02,\n",
       "         2.63467454e-03,  9.16742980e-02, -7.18285143e-02, -6.51912764e-02,\n",
       "        -2.65560392e-02,  5.29105254e-02,  4.55573015e-02,  3.89323011e-02,\n",
       "        -3.46410051e-02, -3.45904306e-02,  4.57439460e-02, -1.86097845e-02,\n",
       "         3.46254520e-02,  1.17288306e-01, -7.44609209e-03,  6.55998439e-02,\n",
       "        -1.25468764e-02, -2.18408841e-05,  1.08306609e-01,  2.67134998e-02,\n",
       "         4.53485064e-02,  5.60808517e-02, -4.04330492e-02, -1.50592605e-08,\n",
       "         6.99566826e-02,  1.06975920e-01,  1.56115079e-02,  8.98602381e-02,\n",
       "         5.45566976e-02, -1.13606043e-02, -4.16440470e-03, -1.74699444e-02,\n",
       "         4.77791950e-02,  4.43023294e-02,  3.56169492e-02, -1.48706473e-02,\n",
       "         1.79323275e-03,  4.51139286e-02, -6.86208904e-02, -3.27098719e-03,\n",
       "        -3.98707874e-02,  9.89077017e-02, -1.69608351e-02,  1.78027786e-02,\n",
       "        -1.56595875e-02,  2.37298403e-02,  3.89270335e-02,  6.05479553e-02,\n",
       "        -4.55020256e-02, -6.12979569e-02,  2.45071668e-03, -9.08337608e-02,\n",
       "         5.01558185e-02,  3.20710093e-02, -4.57177050e-02,  1.36125740e-02,\n",
       "         8.18555951e-02, -4.48126756e-02, -1.37064215e-02,  5.58715053e-02,\n",
       "        -5.49886227e-02,  1.92118380e-02, -2.79621724e-02, -8.57814495e-03,\n",
       "        -8.87092203e-03, -7.09532872e-02, -2.49000248e-02, -1.74574535e-02,\n",
       "         8.20862502e-03, -7.88605660e-02, -6.95612701e-03,  3.58732827e-02,\n",
       "        -5.53682521e-02,  4.26257588e-02, -3.27146687e-02, -3.72626656e-03,\n",
       "         1.07008265e-02,  4.12836997e-03,  2.61917599e-02, -8.82110908e-04,\n",
       "        -2.98815873e-02,  7.27832457e-03, -7.30480850e-02,  1.64237507e-02,\n",
       "        -1.47984814e-04, -1.91680133e-01, -2.15330813e-02, -1.16904564e-02],\n",
       "       dtype=float32),\n",
       " 1: array([-8.95172805e-02,  6.77744970e-02, -7.03664571e-02,  4.98036668e-02,\n",
       "        -1.05077820e-02,  4.22117636e-02,  9.91201475e-02, -2.23862324e-02,\n",
       "         1.65929329e-02, -6.04717480e-03,  8.29470605e-02, -6.47481158e-02,\n",
       "         2.60565151e-02,  5.24804778e-02,  1.19806714e-02, -2.16047782e-02,\n",
       "         7.23917037e-02,  6.37149159e-03,  5.22525236e-02,  5.39257377e-02,\n",
       "        -6.53072149e-02, -1.19717363e-02,  3.61952968e-02,  2.76853237e-02,\n",
       "         1.39624523e-02, -4.94989790e-02, -2.52636112e-02, -1.14955418e-02,\n",
       "        -1.22596528e-02, -1.40459463e-02,  7.39326552e-02,  4.59994487e-02,\n",
       "         5.37535064e-02, -8.09051916e-02,  1.57737024e-02, -1.78918510e-03,\n",
       "         2.40837801e-02,  3.09278350e-02, -6.34418577e-02,  5.54905757e-02,\n",
       "        -6.05805106e-02,  5.78370094e-02, -1.03675611e-02, -1.83681883e-02,\n",
       "         6.20149300e-02, -2.02756450e-02,  7.71434652e-03,  2.61741728e-02,\n",
       "         3.94014604e-02,  8.14926624e-03,  9.32918489e-02, -1.64585877e-02,\n",
       "        -7.64468685e-02, -3.76411080e-02, -8.73740986e-02,  2.29743123e-02,\n",
       "         1.55780278e-02, -5.01815490e-02, -3.22111440e-03, -5.96957169e-02,\n",
       "         6.83867037e-02, -8.75235572e-02,  1.84614286e-02,  3.51782367e-02,\n",
       "        -2.77983826e-02, -1.96660310e-03, -7.14483708e-02, -2.39590649e-02,\n",
       "         1.46101499e-02, -5.25509231e-02, -9.40481760e-03,  2.90704286e-03,\n",
       "        -3.04979309e-02,  3.89540422e-04,  1.95887610e-02,  1.59549862e-01,\n",
       "        -6.65131360e-02,  5.97937666e-02, -2.10536178e-02,  7.62760490e-02,\n",
       "        -3.03704552e-02, -9.73669812e-02, -8.35208595e-03, -4.75676358e-02,\n",
       "         1.39329387e-02, -3.76447178e-02, -1.93622820e-02, -1.89949572e-02,\n",
       "         4.34476770e-02, -3.47478725e-02, -1.85026154e-02,  6.48213848e-02,\n",
       "         2.26787641e-03, -3.46455649e-02, -7.16814995e-02, -1.22453207e-02,\n",
       "        -7.38159334e-03, -4.09213230e-02, -6.98600858e-02,  9.48176906e-03,\n",
       "         9.30696055e-02,  5.12035713e-02, -4.61213849e-02,  1.43363168e-02,\n",
       "         1.57737747e-01,  6.07186332e-02,  2.30360143e-02,  1.63830463e-02,\n",
       "         7.09097385e-02, -5.32765277e-02, -1.60143909e-03,  2.35628150e-03,\n",
       "         8.70672911e-02, -7.00930804e-02, -8.68853256e-02,  1.28722891e-01,\n",
       "        -5.67087568e-02,  1.55932344e-02,  7.37724304e-02,  5.41401394e-02,\n",
       "         3.63042057e-02,  2.53727776e-03,  1.07001867e-02, -3.46425138e-02,\n",
       "        -8.09524804e-02,  2.88365893e-02,  4.94301319e-03,  4.74255119e-35,\n",
       "         6.54414967e-02,  4.39827181e-02,  1.88691393e-02, -9.62529331e-02,\n",
       "        -3.03282752e-03, -5.49364090e-02,  6.80859536e-02, -3.03589180e-02,\n",
       "        -3.47546488e-02, -1.80031508e-02,  1.93879716e-02,  2.95289941e-02,\n",
       "        -8.46742245e-04,  3.28598693e-02, -5.85259357e-03,  2.16062032e-02,\n",
       "        -5.23857027e-02, -2.48603709e-02,  1.45910367e-01, -1.28007513e-02,\n",
       "        -4.48712707e-02,  5.36965802e-02,  3.40235531e-02, -2.98150517e-02,\n",
       "         6.71993122e-02,  4.13708538e-02, -2.13028993e-02, -7.72932991e-02,\n",
       "         5.54332323e-02, -2.10450566e-03,  2.48235427e-02,  2.18161475e-02,\n",
       "         8.92820582e-03, -3.56551409e-02, -2.58435458e-02,  1.06634781e-01,\n",
       "        -4.20855284e-02,  9.22266021e-03,  3.12687196e-02, -3.41641940e-02,\n",
       "        -5.50372116e-02,  8.37424677e-03, -6.53243959e-02, -1.10371180e-01,\n",
       "        -3.88769619e-02, -7.58260936e-02,  1.25374451e-01, -1.39300302e-02,\n",
       "        -7.33644217e-02,  6.21116646e-02, -3.98927033e-02,  3.36124934e-02,\n",
       "        -1.10083714e-01,  2.54018027e-02, -1.53767213e-01, -5.39110601e-02,\n",
       "        -1.64510158e-03,  4.62770686e-02, -6.63006753e-02, -5.64119779e-02,\n",
       "         1.26318121e-02, -9.43491831e-02, -9.96581540e-02, -3.61928716e-02,\n",
       "        -1.27078876e-01,  1.98513251e-02,  4.43198457e-02, -7.65005499e-02,\n",
       "        -7.90948495e-02,  1.23422714e-02,  1.79497637e-02,  6.05220236e-02,\n",
       "         2.61894707e-02, -4.09005359e-02, -1.97338387e-02,  3.24689932e-02,\n",
       "         7.70367729e-03, -8.11708067e-03, -7.53193302e-03, -3.48358639e-02,\n",
       "        -6.56075850e-02,  1.15521029e-02,  2.47941576e-02,  3.50088216e-02,\n",
       "        -3.12303416e-02,  5.35503365e-02,  5.23512065e-02,  6.93454547e-03,\n",
       "        -8.82993173e-03, -5.58986180e-02, -9.54256020e-03,  1.54061373e-02,\n",
       "         1.47683015e-02, -4.11194982e-04,  1.65283512e-02,  3.73790627e-34,\n",
       "        -2.53807083e-02, -2.16645841e-02, -3.00513227e-02,  2.46765418e-03,\n",
       "        -1.38268732e-02,  4.38568033e-02,  1.24271307e-02,  5.25304079e-02,\n",
       "         6.10218802e-03, -3.85055877e-03, -4.19773683e-02,  1.48523049e-02,\n",
       "         1.74808260e-02,  6.84122741e-02,  6.17204830e-02, -6.04449920e-02,\n",
       "        -4.41685058e-02,  6.32691756e-02, -2.66913399e-02, -1.45320490e-03,\n",
       "         5.68569340e-02,  9.67978612e-02, -6.94478527e-02,  2.21926477e-02,\n",
       "         8.00897405e-02,  6.73202127e-02, -3.12200971e-02, -9.92147252e-04,\n",
       "         3.39823030e-02,  2.42234510e-03,  6.15585819e-02, -3.53188477e-02,\n",
       "         6.79242192e-03, -5.04173301e-02, -2.06201263e-02, -1.04833040e-02,\n",
       "        -1.76383310e-03,  9.06395391e-02,  5.63442148e-02,  2.63499934e-02,\n",
       "        -3.76030132e-02,  1.23765031e-02, -2.06261538e-02,  3.25177535e-02,\n",
       "         9.59832035e-03, -7.19506070e-02, -2.50270907e-02, -2.89502498e-02,\n",
       "         2.85393391e-02,  7.10514188e-03, -1.60748750e-01, -6.82757869e-02,\n",
       "         2.46695224e-02,  6.65872023e-02, -3.57991643e-02,  5.45013696e-02,\n",
       "         4.59901504e-02,  3.27718332e-02,  1.12620406e-02, -2.40857862e-02,\n",
       "        -4.47188951e-02,  9.19762533e-03,  8.99967644e-03, -3.73665541e-02,\n",
       "         4.36991863e-02,  8.51027444e-02,  2.95447893e-02,  3.06871403e-02,\n",
       "        -3.93422395e-02,  8.33188649e-03,  2.10874006e-02,  1.34902924e-01,\n",
       "         2.28962358e-02, -1.07545443e-02, -9.20407660e-03,  7.83962905e-02,\n",
       "         3.35771628e-02,  1.01233963e-02,  7.39654340e-03, -1.01915412e-01,\n",
       "        -3.09364367e-02, -1.58859715e-02,  5.38909212e-02, -4.06017294e-03,\n",
       "         7.81387612e-02, -1.46601629e-02, -2.70599779e-02, -2.46780422e-02,\n",
       "        -2.65612360e-02,  8.14010273e-04,  3.04668304e-02, -1.59455091e-02,\n",
       "         5.21452390e-02,  4.68329526e-02,  2.19924301e-02, -1.40728176e-08,\n",
       "        -1.37870153e-02,  3.28394696e-02, -6.27369210e-02,  8.68225694e-02,\n",
       "        -1.03112897e-02,  2.96360627e-02, -1.16741238e-02,  1.16138551e-02,\n",
       "        -9.30265859e-02, -5.26057892e-02,  5.10900691e-02,  1.02396393e-02,\n",
       "        -4.98924963e-02, -5.68700545e-02, -6.05978556e-02,  3.71782109e-02,\n",
       "         2.04123743e-02,  2.30386760e-02,  1.57113373e-02,  5.00145778e-02,\n",
       "         6.99025579e-03,  2.38913223e-02, -8.31662491e-02, -5.08553982e-02,\n",
       "        -1.32524201e-05, -1.03227887e-02,  1.61486700e-01,  8.58081356e-02,\n",
       "         1.12182610e-01, -6.72015399e-02, -7.37114847e-02,  3.38802091e-03,\n",
       "         2.35114899e-02, -9.59261507e-03,  4.40253541e-02, -7.98067153e-02,\n",
       "        -2.67057903e-02,  3.48358117e-02, -3.42844538e-02,  6.43839166e-02,\n",
       "        -2.13125953e-03, -1.26488637e-02, -1.01839621e-02, -1.03885233e-01,\n",
       "         1.64240901e-03,  1.93065628e-02, -1.18128963e-01, -4.92000878e-02,\n",
       "         5.50904982e-02,  3.91727984e-02, -2.36769468e-02, -1.29465656e-02,\n",
       "        -9.78449639e-03,  4.05335091e-02,  1.02367848e-02, -1.96674149e-02,\n",
       "         5.16194180e-02,  2.94381715e-02, -5.21855317e-02,  1.31189041e-02,\n",
       "         2.83832625e-02, -3.50006297e-02, -1.07351443e-04,  7.11532019e-04],\n",
       "       dtype=float32),\n",
       " 2: array([ 8.41100141e-02,  6.52672350e-02,  3.68088973e-03, -6.22501299e-02,\n",
       "        -1.79234855e-02,  2.49289311e-02, -2.20768433e-02,  2.51229070e-02,\n",
       "        -3.68936360e-02,  8.87974575e-02, -5.00760674e-02,  8.48617777e-03,\n",
       "        -2.73370389e-02,  4.26322455e-03, -2.55777198e-03,  8.76744837e-02,\n",
       "         4.28965427e-02,  5.82325011e-02,  5.21200933e-02, -4.80533317e-02,\n",
       "        -8.63977149e-02, -1.07661277e-01, -9.35927685e-03, -7.36431554e-02,\n",
       "        -5.05231582e-02,  2.54140161e-02,  6.51852787e-02, -2.50282157e-02,\n",
       "        -1.90908264e-03,  1.10758729e-02, -1.09346295e-02, -7.62384618e-03,\n",
       "        -2.54869852e-02, -2.14634147e-02, -3.77176069e-02, -2.99025904e-02,\n",
       "         8.52291062e-02, -8.09194446e-02, -2.93369330e-02, -5.26606105e-02,\n",
       "        -6.41198158e-02,  1.80778150e-02, -2.58940249e-03,  6.72486648e-02,\n",
       "         9.29641947e-02, -3.10634114e-02, -3.26048508e-02, -2.94144433e-02,\n",
       "         1.21690929e-02, -3.52833187e-04,  2.85911839e-02, -2.22179387e-02,\n",
       "         5.15700132e-02, -7.16221333e-02, -4.40237299e-02,  6.41466379e-02,\n",
       "        -1.00583643e-01, -1.98743939e-02,  5.62959760e-02,  8.51583332e-02,\n",
       "         8.16867873e-02, -7.06094727e-02, -3.70212533e-02,  5.61481006e-02,\n",
       "         5.51258512e-02,  3.63648981e-02,  1.17004231e-01, -3.84597592e-02,\n",
       "         1.68711469e-02,  4.05460829e-03, -1.88861089e-03,  3.04594412e-02,\n",
       "         1.04511566e-02, -9.40621942e-02, -8.48525390e-02, -4.53442149e-03,\n",
       "         1.55468928e-02,  1.04405340e-02,  3.06858029e-02,  1.17931897e-02,\n",
       "         1.41183725e-02,  3.93039919e-02, -4.63680811e-02, -9.29462612e-02,\n",
       "        -5.75229228e-02,  2.31218822e-02, -8.36021751e-02, -3.57899331e-02,\n",
       "        -1.54302027e-02, -1.89447273e-02, -1.87861379e-02, -1.60199981e-02,\n",
       "         8.14789683e-02,  2.39370726e-02, -5.75388186e-02,  1.64631661e-02,\n",
       "         4.01675962e-02, -1.06387325e-01, -7.13034673e-03,  7.46208504e-02,\n",
       "         3.52249620e-03,  1.07946517e-02,  6.28841892e-02,  9.30291712e-02,\n",
       "         4.71113361e-02,  2.64616404e-02,  1.63643416e-02,  6.00950122e-02,\n",
       "        -6.57638386e-02,  2.02934127e-02, -9.84437391e-03,  3.43621373e-02,\n",
       "        -6.62414208e-02,  6.25080392e-02,  3.80644351e-02,  5.04630804e-02,\n",
       "         1.27891975e-03, -3.16072851e-02,  6.14964180e-02,  3.35156731e-02,\n",
       "        -3.49237062e-02, -1.76325440e-02, -9.81863937e-04,  3.20580564e-02,\n",
       "         7.10423291e-02, -1.04093421e-02, -5.01236655e-02, -1.38844415e-33,\n",
       "         2.45188759e-03,  8.06173980e-02,  7.67023489e-02, -7.34171737e-03,\n",
       "         1.15770679e-02,  3.01783159e-02,  7.93335885e-02, -1.08703924e-02,\n",
       "         8.98050237e-03,  1.30895886e-03, -2.12685298e-02, -3.32545489e-03,\n",
       "        -8.96257628e-03,  3.52614559e-02,  3.49783823e-02, -9.28127691e-02,\n",
       "         2.11067107e-02,  5.49111441e-02,  7.87817836e-02,  5.07049337e-02,\n",
       "        -3.47505361e-02,  6.02540839e-03,  6.27838075e-02, -2.65291836e-02,\n",
       "         1.84948556e-02,  7.12638721e-02, -3.78438532e-02, -9.97054018e-03,\n",
       "         3.67907844e-02,  4.36028987e-02, -6.04590252e-02, -2.12349780e-02,\n",
       "        -2.34713163e-02, -7.63591602e-02,  3.10100075e-02, -6.16018288e-02,\n",
       "        -6.87458664e-02, -3.53627764e-02,  8.20024405e-03,  1.22736208e-01,\n",
       "        -6.14342056e-02,  1.39854988e-02, -8.08871239e-02, -4.80429083e-02,\n",
       "        -2.95573734e-02,  5.12414835e-02,  3.44248600e-02, -3.44144404e-02,\n",
       "        -1.23149656e-01,  1.95354577e-02, -4.30790335e-02,  7.53329322e-02,\n",
       "        -7.28001222e-02, -8.69397167e-03,  4.94936928e-02, -1.22195259e-01,\n",
       "         2.74816453e-02,  1.26306098e-02,  8.75521898e-02,  6.57438561e-02,\n",
       "         1.69878756e-03,  2.57207993e-02, -5.10134399e-02,  5.67384399e-02,\n",
       "        -3.48194200e-03, -3.29150148e-02,  3.57242972e-02, -3.33773345e-02,\n",
       "        -7.80715644e-02,  3.66477780e-02,  1.12177758e-02, -2.02205554e-02,\n",
       "         3.05303652e-02, -5.67509197e-02,  6.78940192e-02,  2.08451450e-02,\n",
       "        -5.64698987e-02,  3.26505825e-02, -6.34538010e-02,  2.10621525e-02,\n",
       "         1.78481955e-02,  8.33918303e-02, -5.23497649e-02, -1.64562538e-02,\n",
       "         3.22481394e-02, -3.81665379e-02,  5.03715761e-02,  2.20073070e-02,\n",
       "        -5.20023471e-03, -5.18705398e-02, -1.10734083e-01, -5.10825031e-02,\n",
       "        -4.00549034e-03,  1.04916329e-02,  2.62652617e-02,  6.70206864e-34,\n",
       "         2.15407889e-02,  3.64463869e-03,  7.78503076e-04,  7.37918094e-02,\n",
       "        -1.59758050e-02,  7.62080913e-03,  3.74612845e-02,  4.52343635e-02,\n",
       "        -1.02107634e-03, -2.43979157e-03,  5.25759235e-02,  5.64108975e-02,\n",
       "         7.07180798e-02,  5.56157008e-02,  2.03160923e-02,  8.48496556e-02,\n",
       "        -3.56815606e-02, -5.83644100e-02, -1.01242878e-03, -8.67121592e-02,\n",
       "         7.15914890e-02,  1.34053817e-02, -6.93314821e-02,  3.32239829e-02,\n",
       "         5.35375699e-02,  5.86388772e-03,  2.08742470e-02,  6.05798967e-04,\n",
       "        -4.29705381e-02, -9.50016826e-03,  2.70291734e-02, -1.53876515e-02,\n",
       "         1.00174330e-01,  2.50450559e-02,  6.61216378e-02, -2.51388401e-02,\n",
       "         1.70310408e-01,  5.62738162e-03, -5.89153804e-02,  4.12992388e-02,\n",
       "         4.26032208e-02,  1.36983925e-02,  1.08859362e-02,  8.71858299e-02,\n",
       "         1.29789743e-03,  6.80923238e-02, -1.56329814e-02, -6.72909245e-02,\n",
       "         9.38828737e-02, -2.13055275e-02,  6.75459802e-02, -2.30683293e-02,\n",
       "        -6.21112017e-03, -6.01201467e-02, -6.23763315e-02, -1.43677860e-01,\n",
       "        -9.29692090e-02,  7.00991750e-02, -3.25629339e-02, -4.73255850e-02,\n",
       "         1.57662518e-02, -4.82142642e-02,  1.17907273e-02, -3.99792567e-02,\n",
       "         1.19128868e-01, -5.76765090e-02, -5.51980222e-03, -1.25677995e-02,\n",
       "        -1.02250716e-02,  9.65721346e-03, -7.60087296e-02, -1.14681259e-01,\n",
       "         8.67163762e-03,  2.82330178e-02, -6.72484469e-03, -2.17974000e-03,\n",
       "         3.77877392e-02, -6.43715560e-02,  4.87749092e-02,  3.43270563e-02,\n",
       "        -1.05264604e-01, -2.97990739e-02,  1.00068063e-01,  1.43565712e-02,\n",
       "         5.75881079e-02, -4.92470078e-02,  2.60381214e-02, -2.44768951e-02,\n",
       "        -5.86339980e-02, -5.23500293e-02, -4.56675095e-03,  7.02299401e-02,\n",
       "        -4.27002348e-02,  4.79779579e-02, -1.98527216e-03, -1.42283128e-08,\n",
       "         5.22492081e-02,  3.74341919e-03, -6.02939799e-02,  7.55018592e-02,\n",
       "         4.55961600e-02, -4.01653312e-02, -3.89119349e-02,  1.35418111e-02,\n",
       "         3.05548441e-02, -2.00318899e-02, -7.65201962e-03, -2.74016932e-02,\n",
       "         4.25368287e-02,  3.45673151e-02,  4.98090237e-02,  2.54621487e-02,\n",
       "        -8.00479054e-02, -9.02005062e-02, -1.87038947e-02,  1.57219414e-02,\n",
       "         2.99041551e-02,  4.13939096e-02,  1.90710835e-02, -7.23931491e-02,\n",
       "        -3.80189866e-02, -7.10517764e-02, -7.84813240e-03, -2.99136713e-02,\n",
       "         3.97666395e-02,  2.43602190e-02, -1.27276564e-02, -2.95045227e-02,\n",
       "        -1.35898478e-02, -8.46255645e-02,  3.13977450e-02, -1.08370773e-01,\n",
       "        -3.74415293e-02,  8.83287862e-02,  4.62478623e-02, -1.75258201e-02,\n",
       "        -3.37174423e-02, -4.22782004e-02, -5.70204556e-02,  2.19540577e-03,\n",
       "        -6.38457611e-02, -4.27370779e-02, -5.65109253e-02, -6.46729991e-02,\n",
       "        -1.06899617e-02,  1.26009136e-02, -8.01445544e-02,  6.57913163e-02,\n",
       "        -7.24976510e-02,  4.58279923e-02,  7.32829720e-02, -4.55189496e-02,\n",
       "         1.11122075e-02,  4.45302278e-02,  3.91878150e-02, -2.91361362e-02,\n",
       "        -6.67807739e-03, -8.73181522e-02,  1.87780464e-03,  9.21393931e-03],\n",
       "       dtype=float32)}"
      ]
     },
     "execution_count": 119,
     "metadata": {},
     "output_type": "execute_result"
    }
   ],
   "source": [
    "ad_embeddings"
   ]
  },
  {
   "cell_type": "code",
   "execution_count": 121,
   "id": "7dc45951-a079-44dc-bbcf-5952f211a2b3",
   "metadata": {},
   "outputs": [],
   "source": [
    "ad_embeddings = {arm: model.encode([desc])[0] for arm, desc in ad_texts.items()}"
   ]
  },
  {
   "cell_type": "code",
   "execution_count": 127,
   "id": "aa3053b9-b63d-4f54-b694-081148cfb25a",
   "metadata": {},
   "outputs": [],
   "source": [
    "embedding_dim =ad_embeddings[0].shape[0]"
   ]
  },
  {
   "cell_type": "code",
   "execution_count": 131,
   "id": "22d246bb-b430-4e78-b759-77395cbb276f",
   "metadata": {},
   "outputs": [
    {
     "data": {
      "text/plain": [
       "384"
      ]
     },
     "execution_count": 131,
     "metadata": {},
     "output_type": "execute_result"
    }
   ],
   "source": [
    "embedding_dim"
   ]
  },
  {
   "cell_type": "code",
   "execution_count": 143,
   "id": "e3e697ae-1d87-47a1-9612-13f35c81190f",
   "metadata": {},
   "outputs": [],
   "source": [
    "context_dim = X.shape[1] + embedding_dim"
   ]
  },
  {
   "cell_type": "code",
   "execution_count": 133,
   "id": "2648d749-1b63-4701-a5eb-eaacfe359744",
   "metadata": {},
   "outputs": [],
   "source": [
    "arms = 3"
   ]
  },
  {
   "cell_type": "code",
   "execution_count": 137,
   "id": "0f2adede-4eee-41a1-98d6-2089b5cecd57",
   "metadata": {},
   "outputs": [],
   "source": [
    "from tqdm import tqdm"
   ]
  },
  {
   "cell_type": "code",
   "execution_count": 141,
   "id": "ad137b12-6f97-455e-aeec-0271945f7e49",
   "metadata": {},
   "outputs": [],
   "source": [
    "class LinUCB:\n",
    "    def __init__(self, n_arms, n_features, alpha=0.5):\n",
    "        self.alpha = alpha\n",
    "        self.n_arms = n_arms\n",
    "        self.n_features = n_features\n",
    "        self.A = [np.identity(n_features) for _ in range(n_arms)]\n",
    "        self.b = [np.zeros((n_features,)) for _ in range(n_arms)]\n",
    "\n",
    "    def predict(self, x_contexts):  # receives one context vector per arm\n",
    "        p = np.zeros(self.n_arms)\n",
    "        for a in range(self.n_arms):\n",
    "            A_inv = np.linalg.inv(self.A[a])\n",
    "            theta = A_inv @ self.b[a]\n",
    "            x = x_contexts[a]  # context vector for this arm\n",
    "            p[a] = theta @ x + self.alpha * np.sqrt(x.T @ A_inv @ x)\n",
    "        return np.argmax(p)\n",
    "\n",
    "    def update(self, chosen_arm, x, reward):\n",
    "        self.A[chosen_arm] += np.outer(x, x)\n",
    "        self.b[chosen_arm] += reward * x\n"
   ]
  },
  {
   "cell_type": "code",
   "execution_count": 145,
   "id": "1c5fe300-42c7-4380-9e8b-cf4c4d06bec2",
   "metadata": {},
   "outputs": [],
   "source": [
    "agent = LinUCB(n_arms=3, n_features=context_dim, alpha=0.5)"
   ]
  },
  {
   "cell_type": "code",
   "execution_count": 147,
   "id": "438ff9ff-5a97-4aeb-827d-cbbdd01395ac",
   "metadata": {
    "scrolled": true
   },
   "outputs": [
    {
     "name": "stderr",
     "output_type": "stream",
     "text": [
      "100%|████████████████████████████████████████████████████████████████████████████| 10000/10000 [03:05<00:00, 53.81it/s]\n"
     ]
    }
   ],
   "source": [
    "for i in tqdm(range(len(X))):\n",
    "    x = X[i]                         # Base features (numerical + cat)\n",
    "    user_c1_value = X_cat[i][0]     # Use C1 to determine ad category\n",
    "    true_arm = user_c1_value % 3    # Assign arm (0, 1, or 2)\n",
    "    \n",
    "    # Build full context vector per arm\n",
    "    contexts = []\n",
    "    for arm in range(arms):\n",
    "        full_context = np.concatenate([x, ad_embeddings[arm]])\n",
    "        contexts.append(full_context)\n",
    "    \n",
    "    # Predict and update\n",
    "    chosen_arm = agent.predict(contexts)\n",
    "    reward = 1 if chosen_arm == true_arm and y[i] == 1 else 0\n",
    "    agent.update(chosen_arm, contexts[chosen_arm], reward)\n",
    "    \n",
    "    rewards.append(reward)"
   ]
  },
  {
   "cell_type": "code",
   "execution_count": 149,
   "id": "46186cf3-6099-4703-b598-e846e687420b",
   "metadata": {},
   "outputs": [
    {
     "data": {
      "image/png": "[encoded data removed]",
      "text/plain": [
       "<Figure size 1000x500 with 1 Axes>"
      ]
     },
     "metadata": {},
     "output_type": "display_data"
    },
    {
     "name": "stdout",
     "output_type": "stream",
     "text": [
      "Final CTR with LLM features: 0.168\n"
     ]
    }
   ],
   "source": [
    "import matplotlib.pyplot as plt\n",
    "\n",
    "cumulative_ctr = np.cumsum(rewards) / (np.arange(len(rewards)) + 1)\n",
    "plt.figure(figsize=(10, 5))\n",
    "plt.plot(cumulative_ctr)\n",
    "plt.title(\"LinUCB + LLM Embedding CTR Over Time\")\n",
    "plt.xlabel(\"Rounds\")\n",
    "plt.ylabel(\"Cumulative CTR\")\n",
    "plt.grid(True)\n",
    "plt.show()\n",
    "\n",
    "print(f\"Final CTR with LLM features: {cumulative_ctr[-1]:.3f}\")\n"
   ]
  },
  {
   "cell_type": "code",
   "execution_count": null,
   "id": "10eb1997-fd84-41b4-ac9b-adc84703d74e",
   "metadata": {},
   "outputs": [],
   "source": []
  }
 ],
 "metadata": {
  "kernelspec": {
   "display_name": "Python [conda env:base] *",
   "language": "python",
   "name": "conda-base-py"
  },
  "language_info": {
   "codemirror_mode": {
    "name": "ipython",
    "version": 3
   },
   "file_extension": ".py",
   "mimetype": "text/x-python",
   "name": "python",
   "nbconvert_exporter": "python",
   "pygments_lexer": "ipython3",
   "version": "3.12.7"
  }
 },
 "nbformat": 4,
 "nbformat_minor": 5
}
